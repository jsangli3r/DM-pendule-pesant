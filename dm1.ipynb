{
 "cells": [
  {
   "cell_type": "markdown",
   "metadata": {},
   "source": [
    "# DM Pendule pesant et portraits de phase\n",
    "\n",
    "Jules SANGLIER - MPSI1"
   ]
  },
  {
   "cell_type": "raw",
   "metadata": {},
   "source": [
    "1.1.1)"
   ]
  },
  {
   "cell_type": "markdown",
   "metadata": {},
   "source": [
    "Soit $\\epsilon$ un pas.\\\n",
    "Alors,\n",
    "$$x'(t) = \\lim\\limits_{\\epsilon \\to 0}\\frac{x(t+\\epsilon)-x(t)}{\\epsilon}$$\n",
    "D'où, $$x(t+\\epsilon) \\approx \\epsilon x'(t) + x(t)$$ Notons\n",
    "$$x_{i+1} = x_{i} + \\epsilon x'_{i}\n",
    "                    = x_{i} + \\epsilon v_{i}$$ car $x'$ est la dérivée\n",
    "de la position par rapport au temps. De même,\n",
    "$$v'(t) = \\lim\\limits_{\\epsilon \\to 0}\\frac{v(t+\\epsilon)-v(t)}{\\epsilon}$$\n",
    "D'où, $$v(t+\\epsilon) \\approx \\epsilon v'(t) + v(t)$$ De manière\n",
    "analogue, notons $v_i$ les valeurs successives de la solution approchée.\n",
    "D'où, $$v_{i+1} = v_{i} + \\epsilon v'_{i}\n",
    "                    = v_{i} + \\frac{d^2\\theta}{dt}\\epsilon$$ car\n",
    "$\\frac{d^2\\theta}{dt}=-\\omega_{0}^2\\theta$ où $\\theta$ est la position.\n",
    "Donc, $$v_{i+1} = v_{i} -\\omega_{0}^2\\theta\\epsilon\n",
    "                    = v_{i} -\\omega_{0}^2x_{i}\\epsilon$$ Finalement,\n",
    "\n",
    "$\\left \\{\n",
    "   \\begin{array}{r c l}\n",
    "      x_{i+1} = x_{i} + \\epsilon v_{i} \\\\\n",
    "      v_{i+1} = v_{i} -\\omega_{0}^2x_{i}\\epsilon\n",
    "   \\end{array}\n",
    "   \\right .$ où $x_{i+1}$ est la position du pendule à un instant $t+dt$\n",
    "et $v_{i+1}$ la vitesse du pendule à un instant $t+dt$."
   ]
  },
  {
   "cell_type": "code",
   "execution_count": null,
   "metadata": {},
   "outputs": [],
   "source": [
    "import matplotlib.pyplot as plt\n",
    "from math import cos\n",
    "from math import sin"
   ]
  },
  {
   "cell_type": "markdown",
   "metadata": {},
   "source": [
    "1.1.2)"
   ]
  },
  {
   "cell_type": "code",
   "execution_count": 8,
   "metadata": {},
   "outputs": [],
   "source": [
    "def solve(w0, epsilon, a, b, x0, v0):\n",
    "    temps = [a]\n",
    "    position = [x0]\n",
    "    vitesse = [v0]\n",
    "    t = a\n",
    "    x = x0\n",
    "    v = v0\n",
    "    while t < (b-epsilon):\n",
    "        v_i1 = v - (w0**2) * x * epsilon\n",
    "        x_i1 = x + epsilon * v\n",
    "        x = x_i1\n",
    "        v = v_i1\n",
    "\n",
    "        t = t + epsilon \n",
    "        temps.append(t)\n",
    "        position.append(x_i1)\n",
    "        vitesse.append(v_i1)\n",
    "            \n",
    "    return (temps, position, vitesse)\n",
    "\n",
    "s = solve(10, 1e-2, 0, 4, 0.1, 0)"
   ]
  },
  {
   "cell_type": "code",
   "execution_count": null,
   "metadata": {},
   "outputs": [],
   "source": []
  }
 ],
 "metadata": {
  "kernelspec": {
   "display_name": "Python 2",
   "language": "python",
   "name": "python2"
  },
  "language_info": {
   "codemirror_mode": {
    "name": "ipython",
    "version": 2
   },
   "file_extension": ".py",
   "mimetype": "text/x-python",
   "name": "python",
   "nbconvert_exporter": "python",
   "pygments_lexer": "ipython2",
   "version": "2.7.14"
  }
 },
 "nbformat": 4,
 "nbformat_minor": 2
}
